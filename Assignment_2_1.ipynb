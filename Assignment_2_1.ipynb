{
 "cells": [
  {
   "cell_type": "code",
   "execution_count": 1,
   "metadata": {},
   "outputs": [],
   "source": [
    "from pyspark.sql import SparkSession\n",
    "from pyspark.sql import SQLContext\n",
    "import pyspark.sql.functions as f\n",
    "import pyspark"
   ]
  },
  {
   "cell_type": "code",
   "execution_count": 2,
   "metadata": {},
   "outputs": [
    {
     "name": "stdout",
     "output_type": "stream",
     "text": [
      "+------+--------------------+--------------------+--------------------+---------+-----------+-------------------+--------------------+--------+----------+--------+\n",
      "|IDLink|               Title|            Headline|              Source|    Topic|PublishDate|     SentimentTitle|   SentimentHeadline|Facebook|GooglePlus|LinkedIn|\n",
      "+------+--------------------+--------------------+--------------------+---------+-----------+-------------------+--------------------+--------+----------+--------+\n",
      "| 99248|Obama Lays Wreath...|Obama Lays Wreath...|           USA TODAY|    obama| 2002-04-02|                0.0| -0.0533001790889026|      -1|        -1|      -1|\n",
      "| 10423|A Look at the Hea...|Tim Haywood, inve...|           Bloomberg|  economy| 2008-09-20|  0.208333333333333|  -0.156385810542806|      -1|        -1|      -1|\n",
      "| 18828|Nouriel Roubini: ...|Nouriel Roubini, ...|           Bloomberg|  economy| 2012-01-28| -0.425210032135381|   0.139754248593737|      -1|        -1|      -1|\n",
      "| 27788|Finland GDP Expan...|Finland's economy...|            RTT News|  economy| 2015-03-01|                0.0|  0.0260643017571343|      -1|        -1|      -1|\n",
      "| 27789|Tourism, govt spe...|Tourism and publi...|The Nation - Thai...|  economy| 2015-03-01|                0.0|   0.141084456488315|      -1|        -1|      -1|\n",
      "| 27790|Intellitec Soluti...|Over 100 attendee...|               PRWeb|microsoft| 2015-03-01|-0.0753778361444409|  0.0367727935198561|      -1|        -1|      -1|\n",
      "| 80690| Monday, 29 Feb 2016|RAMALLAH, Februar...|                null|palestine| 2016-02-28|                0.0|-0.00590569489076917|       0|         0|       0|\n",
      "| 80762|Obama, stars pay ...|First lady Michel...|      Coast Reporter|    obama| 2015-03-01| 0.0833333333333333|   0.103002756765217|      -1|        -1|      -1|\n",
      "| 80771|Fire claims more ...|A Hancock County ...|   WTHR Indianapolis|palestine| 2015-03-01| -0.173925271309261| -0.0501846917841854|      -1|        -1|      -1|\n",
      "| 27803|Microsoft's new W...|New Delhi, Feb.29...|          New Kerala|microsoft| 2015-03-01|-0.0595362090259799| -0.0817150563075766|      -1|        -1|      -1|\n",
      "| 27813|Microsoft Project...|Microsoft may hav...|           SlashGear|microsoft| 2015-03-01|                0.0| 0.00254994083794926|      -1|        -1|      -1|\n",
      "| 27812|Microsoft sneaks ...|The platform batt...|        The Register|microsoft| 2015-03-01|                0.0|  0.0526702630059281|      -1|        -1|      -1|\n",
      "| 27838|Greek economy gro...|Greece's economy ...|Reuters via Yahoo...|  economy| 2015-03-01|                0.0|  -0.375259329232792|      -1|        -1|      -1|\n",
      "| 27811|Big data and the ...|Big data analytic...|     Information Age|  economy| 2015-03-01| 0.0632049365526906|  0.0389861416984116|      -1|        -1|      -1|\n",
      "| 27814|HoloLens dev edit...|Microsoft’s AR he...|               Metro|microsoft| 2015-03-01|                0.0|  0.0794336845206687|      -1|        -1|      -1|\n",
      "| 27823|Microsoft Word fo...|What is A + B? We...|         Macworld UK|microsoft| 2015-03-01|-0.0238833973016124| -0.0322748612183951|      -1|        -1|      -1|\n",
      "| 27827|Microsoft Band 2 ...|The Microsoft Ban...|           SlashGear|microsoft| 2015-03-01|-0.0708683386892301|                 0.0|      -1|        -1|      -1|\n",
      "| 27828|Microsoft prepare...|It seems that Mic...|           TechRadar|microsoft| 2015-03-01|                0.0|        0.0013671875|      -1|        -1|      -1|\n",
      "| 27826|Greek economy shr...|Greece's economy ...|Reuters via Yahoo...|  economy| 2015-03-01|-0.0856450199628935| -0.0995312715398377|      -1|        -1|      -1|\n",
      "| 27839|Sweden's economy ...|Sweden's economy ...|Business Insider ...|  economy| 2015-03-01|                0.0|  -0.014173667737846|      -1|        -1|      -1|\n",
      "+------+--------------------+--------------------+--------------------+---------+-----------+-------------------+--------------------+--------+----------+--------+\n",
      "only showing top 20 rows\n",
      "\n"
     ]
    }
   ],
   "source": [
    "file_name = './data/News_Final.csv'\n",
    "sc = pyspark.SparkContext(appName='hw2-1')\n",
    "text_file = sc.textFile(file_name)\n",
    "sqlContext=SQLContext(sc)\n",
    "df=sqlContext.read.format('csv')\\\n",
    "                    .option(\"header\", \"true\")\\\n",
    "                    .option(\"inferschema\", \"true\")\\\n",
    "                    .option(\"mode\", \"DROPMALFORMED\")\\\n",
    "                    .load(file_name)\n",
    "df=df.withColumn('SentimentTitle', df['SentimentTitle'].cast('double'))\n",
    "df=df.withColumn('SentimentHeadline', df['SentimentHeadline'].cast('double'))\n",
    "df=df.withColumn('PublishDate', df['PublishDate'].cast('date'))\n",
    "df.show()\n",
    "\n",
    "# df.printSchema()"
   ]
  },
  {
   "cell_type": "code",
   "execution_count": 3,
   "metadata": {},
   "outputs": [
    {
     "name": "stdout",
     "output_type": "stream",
     "text": [
      "+--------------------+---------+--------------------+\n",
      "|               Title|    Topic|            Headline|\n",
      "+--------------------+---------+--------------------+\n",
      "|Obama Lays Wreath...|    obama|Obama Lays Wreath...|\n",
      "|A Look at the Hea...|  economy|Tim Haywood, inve...|\n",
      "|Nouriel Roubini: ...|  economy|Nouriel Roubini, ...|\n",
      "|Finland GDP Expan...|  economy|Finland's economy...|\n",
      "|Tourism, govt spe...|  economy|Tourism and publi...|\n",
      "|Intellitec Soluti...|microsoft|Over 100 attendee...|\n",
      "| Monday, 29 Feb 2016|palestine|RAMALLAH, Februar...|\n",
      "|Obama, stars pay ...|    obama|First lady Michel...|\n",
      "|Fire claims more ...|palestine|A Hancock County ...|\n",
      "|Microsoft's new W...|microsoft|New Delhi, Feb.29...|\n",
      "|Microsoft Project...|microsoft|Microsoft may hav...|\n",
      "|Microsoft sneaks ...|microsoft|The platform batt...|\n",
      "|Greek economy gro...|  economy|Greece's economy ...|\n",
      "|Big data and the ...|  economy|Big data analytic...|\n",
      "|HoloLens dev edit...|microsoft|Microsoft’s AR he...|\n",
      "|Microsoft Word fo...|microsoft|What is A + B? We...|\n",
      "|Microsoft Band 2 ...|microsoft|The Microsoft Ban...|\n",
      "|Microsoft prepare...|microsoft|It seems that Mic...|\n",
      "|Greek economy shr...|  economy|Greece's economy ...|\n",
      "|Sweden's economy ...|  economy|Sweden's economy ...|\n",
      "+--------------------+---------+--------------------+\n",
      "only showing top 20 rows\n",
      "\n"
     ]
    }
   ],
   "source": [
    "df.select(\"Title\",\"Topic\",\"Headline\").show()\n"
   ]
  },
  {
   "cell_type": "code",
   "execution_count": 4,
   "metadata": {},
   "outputs": [],
   "source": [
    "data=df.where(df[\"Topic\"]==\"microsoft\").select(\"Topic\",\"Title\",\"PublishDate\",\"Headline\")"
   ]
  },
  {
   "cell_type": "code",
   "execution_count": 5,
   "metadata": {},
   "outputs": [],
   "source": [
    "columnName=['obama','economy','microsoft','palestine']\n",
    "for name in columnName:\n",
    "    print(name+\"----------------Title\")\n",
    "    data=df.where(df[\"Topic\"]==name).select(\"Topic\",\"Title\",\"PublishDate\")\n",
    "    data.withColumn('word', f.explode(f.split(f.col('Title'), ' ')))\\\n",
    "        .groupBy('PublishDate',\"word\")\\\n",
    "        .count()\\\n",
    "        .sort('count','PublishDate', ascending=False)\\\n",
    "        .write.format(\"csv\").mode(\"overwrite\").save(\"file:///home/bigdata/Documents/BD_HW/HW2/output/\"+name+\"_Title.csv\")\n",
    "    \n",
    "#     data.select(\"Topic\", \"Title\",\"PublishDate\").write()\\\n",
    "#     .format(\"com.databricks.spark.csv\")\\\n",
    "#     .option(\"header\", \"true\")\\\n",
    "#     .option(\"codec\", \"org.apache.hadoop.io.compress.GzipCodec\")\\\n",
    "#     .save(\"newcars.csv\");\n",
    "#     data.write.mode(\"overwrite\").format(\"text\").save(\"./test.txt\")\n",
    "#     out=open('output/SentimentScore.txt','w')\n",
    "#     out.write('SentimentScore_sum\\n')\n",
    "#     print(SentimentScore_sum)\n",
    "#     for i in range(len(SentimentScore_sum)):\n",
    "#         out.write(str(SentimentScore_sum[i]) + '\\n')\n",
    "#     out.write('\\nSentimentScore_average\\n')\n",
    "#     for i in range(len(SentimentScore_average)):\n",
    "#         out.write(str(SentimentScore_average[i]) + '\\n')\n",
    "#     out.close()"
   ]
  },
  {
   "cell_type": "code",
   "execution_count": 6,
   "metadata": {},
   "outputs": [
    {
     "name": "stdout",
     "output_type": "stream",
     "text": [
      "obama----------------Headline\n",
      "economy----------------Headline\n",
      "microsoft----------------Headline\n",
      "palestine----------------Headline\n"
     ]
    }
   ],
   "source": [
    "for name in columnName:\n",
    "    print(name+\"----------------Headline\")\n",
    "    data=df.where(df[\"Topic\"]==name).select(\"Topic\",\"Title\",\"PublishDate\",'Headline')\n",
    "    data.withColumn('word', f.explode(f.split(f.col('Headline'), ' ')))\\\n",
    "        .groupBy('PublishDate',\"word\")\\\n",
    "        .count()\\\n",
    "        .sort('count','PublishDate', ascending=False)\\\n",
    "        .write.format(\"csv\").mode(\"overwrite\").save(\"file:///home/bigdata/Documents/BD_HW/HW2/output/\"+name+\"_Headline.csv\")\n",
    "   "
   ]
  },
  {
   "cell_type": "code",
   "execution_count": null,
   "metadata": {},
   "outputs": [],
   "source": []
  },
  {
   "cell_type": "code",
   "execution_count": null,
   "metadata": {},
   "outputs": [],
   "source": []
  },
  {
   "cell_type": "code",
   "execution_count": 7,
   "metadata": {},
   "outputs": [],
   "source": [
    "sc.stop()"
   ]
  }
 ],
 "metadata": {
  "kernelspec": {
   "display_name": "Python 3",
   "language": "python",
   "name": "python3"
  },
  "language_info": {
   "codemirror_mode": {
    "name": "ipython",
    "version": 3
   },
   "file_extension": ".py",
   "mimetype": "text/x-python",
   "name": "python",
   "nbconvert_exporter": "python",
   "pygments_lexer": "ipython3",
   "version": "3.5.2"
  }
 },
 "nbformat": 4,
 "nbformat_minor": 4
}
