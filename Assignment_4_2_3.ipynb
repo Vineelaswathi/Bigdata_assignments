{
 "cells": [
  {
   "cell_type": "code",
   "execution_count": 1,
   "metadata": {},
   "outputs": [],
   "source": [
    "import time\n",
    "import pyspark\n",
    "import pandas as pd\n",
    "import numpy as np\n",
    "from pyspark.sql import SparkSession\n",
    "import pyspark.sql.functions as f\n",
    "import csv"
   ]
  },
  {
   "cell_type": "code",
   "execution_count": null,
   "metadata": {},
   "outputs": [],
   "source": [
    "file_name = 'ratings.dat'\n",
    "sc = pyspark.SparkContext(appName='hw4-q2&3')\n",
    "text_file = sc.textFile(file_name)\n",
    "test = text_file.collect()"
   ]
  },
  {
   "cell_type": "code",
   "execution_count": null,
   "metadata": {},
   "outputs": [],
   "source": [
    "#將資料以\"::\"分隔\n",
    "def deal_process(data):\n",
    "    data = data.map(lambda x : x.split('::'))\n",
    "    return data"
   ]
  },
  {
   "cell_type": "code",
   "execution_count": null,
   "metadata": {},
   "outputs": [],
   "source": [
    "#Establish matrix - user-user\n",
    "def cal_matrix_user(UserID_avg , MovieID_avg , Compare_Data):\n",
    "    matrix = [[None] * len(MovieID_avg) for i in range(len(UserID_avg))]\n",
    "    for i in range(len(UserID_avg)):\n",
    "        for j in range(len(MovieID_avg)):\n",
    "            frequency = 0\n",
    "            for z in range(len(Compare_Data)):\n",
    "                if (str(UserID_avg[i][0]) == str(Compare_Data[z][0])) and (str(MovieID_avg[j][0]) == str(Compare_Data[z][1])):\n",
    "                    frequency = frequency + Compare_Data[z][2] - UserID_avg[i][1]\n",
    "            matrix[i][j] = frequency\n",
    "    return matrix"
   ]
  },
  {
   "cell_type": "code",
   "execution_count": null,
   "metadata": {},
   "outputs": [],
   "source": [
    "#Establish matrix - item-item\n",
    "def cal_matrix_item(UserID_avg , MovieID_avg , Compare_Data):\n",
    "    matrix = [[None] * len(UserID_avg) for i in range(len(MovieID_avg))]\n",
    "    for i in range(len(MovieID_avg)):\n",
    "        for j in range(len(UserID_avg)):\n",
    "            frequency = 0\n",
    "            for z in range(len(Compare_Data)):\n",
    "                if (str(UserID_avg[j][0]) == str(Compare_Data[z][0])) and (str(MovieID_avg[i][0]) == str(Compare_Data[z][1])):\n",
    "                    frequency = frequency + Compare_Data[z][2] - MovieID_avg[i][1]\n",
    "            matrix[i][j] = frequency\n",
    "    return matrix"
   ]
  },
  {
   "cell_type": "code",
   "execution_count": null,
   "metadata": {},
   "outputs": [],
   "source": [
    "#cosine_similarity\n",
    "def cos_sim(matrix , UserID_number , MovieID_number , tp):\n",
    "    list = []\n",
    "    if (tp == 0):\n",
    "        for i in range (1):\n",
    "            for j in range(i,UserID_number):\n",
    "                tmp = []\n",
    "                vector1 = np.array(matrix[i])\n",
    "                vector2 = np.array(matrix[j])\n",
    "                tmp.append('S'+str(i+1)+str(j+1))\n",
    "                if(i==j):\n",
    "                    tmp.append(1)\n",
    "                elif((np.linalg.norm(vector1)*(np.linalg.norm(vector2)!=0))):\n",
    "                    tmp.append(np.dot(vector1,vector2) / (np.linalg.norm(vector1)*(np.linalg.norm(vector2))))\n",
    "                else:\n",
    "                    tmp.append(0)\n",
    "                list.append(tmp)\n",
    "    else:\n",
    "        for i in range (1):\n",
    "            for j in range(i,MovieID_number):\n",
    "                tmp = []\n",
    "                vector1 = np.array(matrix[i])\n",
    "                vector2 = np.array(matrix[j])\n",
    "                tmp.append('S'+str(i+1)+str(j+1))\n",
    "                if(i==j):\n",
    "                    tmp.append(1)\n",
    "                elif((np.linalg.norm(vector1)*(np.linalg.norm(vector2)!=0))):\n",
    "                    tmp.append(np.dot(vector1,vector2) / (np.linalg.norm(vector1)*(np.linalg.norm(vector2))))\n",
    "                else:\n",
    "                    tmp.append(0)\n",
    "                list.append(tmp)\n",
    "    return list"
   ]
  },
  {
   "cell_type": "code",
   "execution_count": null,
   "metadata": {},
   "outputs": [],
   "source": [
    "data = deal_process(text_file)\n",
    "spark = SparkSession.builder.getOrCreate()\n",
    "spark_df = spark.createDataFrame(data).toDF('UserID','MovieID','Rating','Timestamp')\n",
    "# spark_df.show()"
   ]
  },
  {
   "cell_type": "code",
   "execution_count": null,
   "metadata": {},
   "outputs": [],
   "source": [
    "#Dataframe deal with data\n",
    "spark_df = spark_df.withColumn('Rating', spark_df['Rating'].cast('double'))\n",
    "spark_df = spark_df.withColumn('UserID', spark_df['UserID'].cast('int'))\n",
    "spark_df = spark_df.withColumn('MovieID', spark_df['MovieID'].cast('int'))\n",
    "# spark_df.printSchema()\n",
    "avg = spark_df.select('UserID','MovieID','Rating')\n",
    "#ALL_UserID -> 6040 , Test_UserID -> 5\n",
    "#UserID_avg(Rating)\n",
    "UserID_avg = avg.groupBy('UserID').mean().sort('UserID',ascending=True)\n",
    "#ALL_MovieID -> 3706 , Test_MovieID -> 35\n",
    "#MovieID_avg(Rating)\n",
    "MovieID_avg = avg.groupBy('MovieID').mean().sort('MovieID',ascending=True)\n",
    "#Compare_Data , Test_Compara_data -> 50\n",
    "Compare_Data = avg.groupBy('UserID','MovieID').mean().sort('UserID',ascending=True)\n",
    "#drop no-need data,Adjust type\n",
    "UserID_avg = UserID_avg.withColumn('UserID', UserID_avg['UserID'].cast('String'))\n",
    "MovieID_avg = MovieID_avg.withColumn('MovieID', MovieID_avg['MovieID'].cast('String'))\n",
    "Compare_Data = Compare_Data.withColumn('UserID', Compare_Data['UserID'].cast('String'))\n",
    "Compare_Data = Compare_Data.withColumn('MovieID', Compare_Data['MovieID'].cast('String'))\n",
    "UserID_avg = UserID_avg.drop('avg(UserID)')\n",
    "UserID_avg = UserID_avg.drop('avg(MovieID)')\n",
    "MovieID_avg = MovieID_avg.drop('avg(UserID)')\n",
    "MovieID_avg = MovieID_avg.drop('avg(MovieID)')\n",
    "Compare_Data = Compare_Data.drop('avg(UserID)')\n",
    "Compare_Data = Compare_Data.drop('avg(MovieID)')\n",
    "User_number = UserID_avg.count()\n",
    "Movie_number = MovieID_avg.count()\n",
    "Compare_Data_number = Compare_Data.count()\n",
    "# print('----------------------------------')\n",
    "# UserID_avg.printSchema()\n",
    "# print(UserID_avg.count())\n",
    "# UserID_avg.show()\n",
    "# print('----------------------------------')\n",
    "# MovieID_avg.printSchema()\n",
    "# print(MovieID_avg.count())\n",
    "# MovieID_avg.show()\n",
    "# print('----------------------------------')\n",
    "# Compare_Data.printSchema()\n",
    "# Compare_Data.show(100)\n",
    "# print('----------------------------------')"
   ]
  },
  {
   "cell_type": "code",
   "execution_count": null,
   "metadata": {},
   "outputs": [],
   "source": [
    "#Dataframe transform list\n",
    "# print('----------------------------------')\n",
    "# print('Compare_Data_list : ')\n",
    "Compare_Data = Compare_Data.toPandas()\n",
    "Compare_Data = np.array(Compare_Data)\n",
    "Compare_Data = Compare_Data.tolist()\n",
    "# print('----------------------------------')\n",
    "# print(Compare_Data)\n",
    "# print('----------------------------------')\n",
    "# print('')\n",
    "# print('----------------------------------')\n",
    "# print('UserID_avg_list : ')\n",
    "UserID_avg = UserID_avg.toPandas()\n",
    "UserID_avg = np.array(UserID_avg)\n",
    "UserID_avg = UserID_avg.tolist()\n",
    "# print('----------------------------------')\n",
    "# print(UserID_avg)\n",
    "# print('----------------------------------')\n",
    "# print('')\n",
    "# print('MovieID_avg_list : ')\n",
    "# print('----------------------------------')\n",
    "MovieID_avg = MovieID_avg.toPandas()\n",
    "MovieID_avg = np.array(MovieID_avg)\n",
    "MovieID_avg = MovieID_avg.tolist()\n",
    "# print(MovieID_avg)\n",
    "# print('----------------------------------')"
   ]
  },
  {
   "cell_type": "code",
   "execution_count": null,
   "metadata": {},
   "outputs": [],
   "source": [
    "#User-user sim\n",
    "test_user = cal_matrix_user(UserID_avg,MovieID_avg,Compare_Data)\n",
    "result_cos_sim = cos_sim(test_user , len(UserID_avg) , len(MovieID_avg) , 0)\n",
    "result_cos_sim.sort(key = lambda x : x[1] , reverse=True)\n",
    "with open('User_User_Similarity.txt', 'w') as f:\n",
    "    for item in result_cos_sim:\n",
    "        f.write(\"%s\\n\" % item)"
   ]
  },
  {
   "cell_type": "code",
   "execution_count": null,
   "metadata": {},
   "outputs": [],
   "source": [
    "#item-item sim\n",
    "test_item = cal_matrix_item(UserID_avg,MovieID_avg,Compare_Data)\n",
    "result_cos_sim = cos_sim(test_item , len(UserID_avg) , len(MovieID_avg) , 1)\n",
    "result_cos_sim.sort(key = lambda x : x[1] , reverse=True)\n",
    "with open('Item_Item_Similarity.txt', 'w') as f:\n",
    "    for item in result_cos_sim:\n",
    "        f.write(\"%s\\n\" % item)"
   ]
  },
  {
   "cell_type": "code",
   "execution_count": null,
   "metadata": {},
   "outputs": [],
   "source": [
    "sc.stop()"
   ]
  },
  {
   "cell_type": "code",
   "execution_count": null,
   "metadata": {},
   "outputs": [],
   "source": []
  }
 ],
 "metadata": {
  "kernelspec": {
   "display_name": "Python 3",
   "language": "python",
   "name": "python3"
  },
  "language_info": {
   "codemirror_mode": {
    "name": "ipython",
    "version": 3
   },
   "file_extension": ".py",
   "mimetype": "text/x-python",
   "name": "python",
   "nbconvert_exporter": "python",
   "pygments_lexer": "ipython3",
   "version": "3.5.2"
  }
 },
 "nbformat": 4,
 "nbformat_minor": 4
}
