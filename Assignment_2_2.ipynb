{
 "cells": [
  {
   "cell_type": "code",
   "execution_count": 1,
   "metadata": {},
   "outputs": [],
   "source": [
    "import time\n",
    "import pyspark\n",
    "import numpy as np\n",
    "from operator import add"
   ]
  },
  {
   "cell_type": "code",
   "execution_count": 2,
   "metadata": {},
   "outputs": [],
   "source": [
    "workspace='hdfs:/user/bigdata/data/'\n",
    "file_name='Facebook_Microsoft'\n",
    "out_byHour = 'file:///home/bigdata/Documents/BD_HW/HW2/output/Byhour'\n",
    "out_byDay = 'file:///home/bigdata/Documents/BD_HW/HW2/output/Byday'\n",
    "sc = pyspark.SparkContext(appName='hw2-2')\n",
    "sqlContext = pyspark.SQLContext(sc)"
   ]
  },
  {
   "cell_type": "code",
   "execution_count": 3,
   "metadata": {},
   "outputs": [
    {
     "name": "stdout",
     "output_type": "stream",
     "text": [
      "['IDLink', 'TS72', 'TS144']\n",
      "['IDLink', 'TS3', 'TS6', 'TS9', 'TS12', 'TS15', 'TS18', 'TS21', 'TS24', 'TS27', 'TS30', 'TS33', 'TS36', 'TS39', 'TS42', 'TS45', 'TS48', 'TS51', 'TS54', 'TS57', 'TS60', 'TS63', 'TS66', 'TS69', 'TS72', 'TS75', 'TS78', 'TS81', 'TS84', 'TS87', 'TS90', 'TS93', 'TS96', 'TS99', 'TS102', 'TS105', 'TS108', 'TS111', 'TS114', 'TS117', 'TS120', 'TS123', 'TS126', 'TS129', 'TS132', 'TS135', 'TS138', 'TS141', 'TS144']\n"
     ]
    }
   ],
   "source": [
    "fileList=['Facebook_Economy', 'Facebook_Microsoft', 'Facebook_Obama', 'Facebook_Palestine',\\\n",
    "          'GooglePlus_Economy', 'GooglePlus_Microsoft', 'GooglePlus_Obama', 'GooglePlus_Palestine',\\\n",
    "          'LinkedIn_Economy', 'LinkedIn_Microsoft', 'LinkedIn_Obama', 'LinkedIn_Palestine']\n",
    "header_per_day=['IDLink'] + ['TS'+str((count+1)*72) for count in range(2)]\n",
    "header_per_hour=['IDLink'] + ['TS'+str((count+1)*3) for count in range(48)]\n",
    "print(header_per_day)\n",
    "print(header_per_hour)"
   ]
  },
  {
   "cell_type": "code",
   "execution_count": 4,
   "metadata": {},
   "outputs": [],
   "source": [
    "platforms='Facebook'\n",
    "\n",
    "out_hour=open('output/' + platforms + '_hour.txt','w')\n",
    "out_day=open('output/' + platforms + '_day.txt','w')\n",
    "for fileName in fileList:\n",
    "    social_feedback_data=sqlContext.read.format('csv')\\\n",
    "    .option(\"header\", \"true\")\\\n",
    "    .option(\"inferschema\", \"true\")\\\n",
    "    .load(workspace+fileName+'.csv')\n",
    "    popularityAvg_per_hour=social_feedback_data.select(header_per_hour).rdd.map(list)\\\n",
    "                                               .flatMap(lambda x:((x[0], element) for element in x[1:]))\\\n",
    "                                               .reduceByKey(add).map(lambda x:(x[0], x[1]/48)).sortByKey()\\\n",
    "                                               .map(lambda x:('ID'+str(x[0]), x[1])).collect()\n",
    "    popularityAvg_per_day=social_feedback_data.select(header_per_day).rdd.map(list)\\\n",
    "                                              .flatMap(lambda x:((x[0], element) for element in x[1:]))\\\n",
    "                                              .reduceByKey(add).map(lambda x:(x[0], x[1]/2)).sortByKey()\\\n",
    "                                              .map(lambda x:('ID'+str(x[0]), x[1])).collect()\n",
    "    if fileName.split('_')[0] != platforms:\n",
    "        out_hour.close()\n",
    "        out_day.close()\n",
    "        platforms=fileName.split('_')[0]\n",
    "        out_hour=open('output/' + platforms + '_hour.txt','w')\n",
    "        out_day=open('output/' + platforms + '_day.txt','w')\n",
    "    out_hour.write(fileName + '\\n')\n",
    "    out_day.write(fileName + '\\n')\n",
    "    for i in range(len(popularityAvg_per_hour)):\n",
    "        out_hour.write(str(popularityAvg_per_hour[i]) + '\\n')\n",
    "    out_hour.write('\\n')\n",
    "    for i in range(len(popularityAvg_per_day)):\n",
    "        out_day.write(str(popularityAvg_per_day[i]) + '\\n')\n",
    "    out_day.write('\\n')\n",
    "out_hour.close()\n",
    "out_day.close()"
   ]
  },
  {
   "cell_type": "code",
   "execution_count": null,
   "metadata": {},
   "outputs": [],
   "source": []
  },
  {
   "cell_type": "code",
   "execution_count": 5,
   "metadata": {},
   "outputs": [],
   "source": [
    "sc.stop()"
   ]
  },
  {
   "cell_type": "code",
   "execution_count": null,
   "metadata": {},
   "outputs": [],
   "source": []
  },
  {
   "cell_type": "code",
   "execution_count": null,
   "metadata": {},
   "outputs": [],
   "source": []
  }
 ],
 "metadata": {
  "kernelspec": {
   "display_name": "Python 3",
   "language": "python",
   "name": "python3"
  },
  "language_info": {
   "codemirror_mode": {
    "name": "ipython",
    "version": 3
   },
   "file_extension": ".py",
   "mimetype": "text/x-python",
   "name": "python",
   "nbconvert_exporter": "python",
   "pygments_lexer": "ipython3",
   "version": "3.5.2"
  }
 },
 "nbformat": 4,
 "nbformat_minor": 4
}
