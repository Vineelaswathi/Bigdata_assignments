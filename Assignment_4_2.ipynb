{
 "cells": [
  {
   "cell_type": "code",
   "execution_count": 1,
   "metadata": {},
   "outputs": [],
   "source": [
    "import time\n",
    "import pyspark\n"
   ]
  },
  {
   "cell_type": "code",
   "execution_count": 2,
   "metadata": {},
   "outputs": [],
   "source": [
    "start = time.time()\n",
    "workspace='hdfs:/user/bigdata/HW4-Data/'\n",
    "movies_dat='movies.dat'\n",
    "ratings_dat='ratings.dat'\n",
    "users_dat='users.dat'"
   ]
  },
  {
   "cell_type": "code",
   "execution_count": null,
   "metadata": {},
   "outputs": [],
   "source": [
    "sc = pyspark.SparkContext(appName='hw4-2')\n",
    "# text_file = sc.textFile(\"HW4-Data/\"+ratings_dat)\n",
    "text_file = sc.textFile(\"HW4-Data/ratings_s2.dat\")\n",
    "\n",
    "print(text_file.count())\n",
    "print(text_file.take(20))"
   ]
  },
  {
   "cell_type": "code",
   "execution_count": null,
   "metadata": {},
   "outputs": [],
   "source": [
    "start = time.time()\n",
    "userID_MovieID_Rating=text_file.map(lambda rdd : rdd.split(\"::\"))\\\n",
    "        .map(lambda rdd :[int(rdd[0]),[int(rdd[1]),float(rdd[2])]])\n",
    "list_UserID=text_file.map(lambda rdd : rdd.split(\"::\"))\\\n",
    "        .map(lambda rdd :int(rdd[0])).map(lambda x:[x,1]).reduceByKey(lambda x,y:x).collect()\n",
    "list_MovieID=text_file.map(lambda rdd : rdd.split(\"::\"))\\\n",
    "        .map(lambda rdd :int(rdd[1])).map(lambda x:[x,1]).reduceByKey(lambda x,y:x+y).sortByKey().collect()\n",
    "# print(list_MovieID)\n",
    "\n",
    "\n",
    "# print(len(list_UserID))\n",
    "userID_MovieID_Rating_temp=[]\n",
    "\n",
    "for userid in list_UserID:\n",
    "    userID_MovieID_Rating_temp.append([userid[0],userID_MovieID_Rating.lookup(userid[0])])\n",
    "    for m_ID in list_MovieID:\n",
    "        run=True\n",
    "        for userMovieID in userID_MovieID_Rating_temp[-1][1]:\n",
    "            if userMovieID[0]==m_ID[0] :\n",
    "                run=False\n",
    "                break\n",
    "        if run :   \n",
    "            userID_MovieID_Rating_temp[-1][1].append([m_ID[0],0])\n",
    "# print(userID_MovieID_Rating_temp)\n",
    "\n",
    "userID_MovieID_Rating=sc.parallelize(userID_MovieID_Rating_temp)\n",
    "userID_MovieID_Rating_temp=[]\n",
    "for userid in list_UserID:\n",
    "    MovieID_Rating_temp=sc.parallelize(userID_MovieID_Rating.lookup(userid[0])[0])\n",
    "    userID_MovieID_Rating_temp.append([userid[0],MovieID_Rating_temp.reduceByKey(lambda x,y:(x+y)/2).sortByKey(ascending=True).collect()])\n",
    "\n",
    "with open('output/HW4-2t-ouput.txt','w') as f:\n",
    "#     for x in userID_MovieID_Rating_temp:\n",
    "    f.write(str(userID_MovieID_Rating_temp))\n",
    "print('time: \\t{}'.format(time.time() - start))\n",
    "#     print(x)\n",
    "# print(userID_MovieID_Rating_temp)\n",
    "\n",
    "#     print(MovieID_Rating_temp.collect())\n",
    "#     MovieID_Rating_temp[userid[0]]\n",
    "# userID_MovieID_Rating.collect()\n",
    "#     print(userID_MovieID_Rating.lookup(userid[0]))\n",
    "# print(userID_MovieID_Rating1[1])\n",
    "# print(userID_MovieID_Rating.lookup(1))\n",
    "\n",
    "# userID_MovieID_Rating.collect()\n",
    "# print(userID_MovieID_Rating)\n",
    "# print(\"userID , movid , rating\")\n",
    "# list_UserID_MovieID_Rating=userID_MovieID_Rating.collect()"
   ]
  },
  {
   "cell_type": "code",
   "execution_count": null,
   "metadata": {},
   "outputs": [],
   "source": []
  },
  {
   "cell_type": "code",
   "execution_count": null,
   "metadata": {},
   "outputs": [],
   "source": [
    "# for i in range(1,3953):\n",
    "#     for x in list_MovieID:\n",
    "#         if i==x[0]:\n",
    "#             break\n",
    "#             print(i)\n",
    "    "
   ]
  },
  {
   "cell_type": "code",
   "execution_count": null,
   "metadata": {},
   "outputs": [],
   "source": [
    "# userID_Rating=userID_MovieID_Rating.map(lambda rdd:[rdd[0],rdd[2]])\n",
    "# list_UserID_Rating=userID_Rating.collect()\n",
    "# userID_Rating.collect()\n"
   ]
  },
  {
   "cell_type": "code",
   "execution_count": null,
   "metadata": {},
   "outputs": [],
   "source": [
    "# movieID_Rating=userID_MovieID_Rating.map(lambda rdd:[rdd[1],rdd[2]])\n",
    "# list_MovieID_Rating=movieID_Rating.collect()"
   ]
  },
  {
   "cell_type": "code",
   "execution_count": null,
   "metadata": {},
   "outputs": [],
   "source": [
    "# arr_UserID_MovieID={,}"
   ]
  },
  {
   "cell_type": "code",
   "execution_count": null,
   "metadata": {},
   "outputs": [],
   "source": [
    "# print(list_UserID_MovieID_Rating[0])"
   ]
  },
  {
   "cell_type": "code",
   "execution_count": null,
   "metadata": {},
   "outputs": [],
   "source": [
    "# print(list_UserID_Rating[0])"
   ]
  },
  {
   "cell_type": "code",
   "execution_count": null,
   "metadata": {},
   "outputs": [],
   "source": [
    "# print(list_MovieID_Rating[0])"
   ]
  },
  {
   "cell_type": "code",
   "execution_count": null,
   "metadata": {},
   "outputs": [],
   "source": [
    "# for()"
   ]
  },
  {
   "cell_type": "code",
   "execution_count": null,
   "metadata": {},
   "outputs": [],
   "source": []
  }
 ],
 "metadata": {
  "kernelspec": {
   "display_name": "Python 3",
   "language": "python",
   "name": "python3"
  },
  "language_info": {
   "codemirror_mode": {
    "name": "ipython",
    "version": 3
   },
   "file_extension": ".py",
   "mimetype": "text/x-python",
   "name": "python",
   "nbconvert_exporter": "python",
   "pygments_lexer": "ipython3",
   "version": "3.5.2"
  }
 },
 "nbformat": 4,
 "nbformat_minor": 4
}
