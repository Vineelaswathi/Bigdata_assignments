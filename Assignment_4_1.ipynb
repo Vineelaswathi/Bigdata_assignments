{
 "cells": [
  {
   "cell_type": "code",
   "execution_count": 1,
   "metadata": {},
   "outputs": [],
   "source": [
    "import time\n",
    "import pyspark\n"
   ]
  },
  {
   "cell_type": "code",
   "execution_count": 2,
   "metadata": {},
   "outputs": [],
   "source": [
    "start = time.time()\n",
    "workspace='hdfs:/user/bigdata/HW4-Data/'\n",
    "movies_dat='movies.dat'\n",
    "ratings_dat='ratings.dat'\n",
    "users_dat='users.dat'"
   ]
  },
  {
   "cell_type": "code",
   "execution_count": 3,
   "metadata": {},
   "outputs": [
    {
     "name": "stdout",
     "output_type": "stream",
     "text": [
      "1000209\n",
      "['1::1193::5::978300760', '1::661::3::978302109', '1::914::3::978301968', '1::3408::4::978300275', '1::2355::5::978824291', '1::1197::3::978302268', '1::1287::5::978302039', '1::2804::5::978300719', '1::594::4::978302268', '1::919::4::978301368', '1::595::5::978824268', '1::938::4::978301752', '1::2398::4::978302281', '1::2918::4::978302124', '1::1035::5::978301753', '1::2791::4::978302188', '1::2687::3::978824268', '1::2018::4::978301777', '1::3105::5::978301713', '1::2797::4::978302039']\n"
     ]
    }
   ],
   "source": [
    "\n",
    "sc = pyspark.SparkContext(appName='hw4-1')\n",
    "text_file = sc.textFile(\"HW4-Data/\"+ratings_dat)\n",
    "print(text_file.count())\n",
    "print(text_file.take(20))\n",
    "# print()\n",
    "# print(text_file.first())\n",
    "# print()\n",
    "# print(text_file.take(20)[0][0])\n",
    "# print(text_file.take(20)[0][1])\n",
    "# print(text_file.take(20)[0][2])\n",
    "\n",
    "\n",
    "\n",
    "# sqlContext = pyspark.SQLContext(sc)\n",
    "# take_size=text_file.count()\n",
    "# text_file.take(take_size)"
   ]
  },
  {
   "cell_type": "code",
   "execution_count": null,
   "metadata": {},
   "outputs": [],
   "source": []
  },
  {
   "cell_type": "code",
   "execution_count": 4,
   "metadata": {},
   "outputs": [
    {
     "name": "stdout",
     "output_type": "stream",
     "text": [
      "rating , movid\n"
     ]
    }
   ],
   "source": [
    "#secfind=text_file.map(lambda rdd : rdd.split(\"::\")).map(lambda rdd :(int(rdd[1]),float(rdd[2]))).reduceByKey(lambda x, y:(x+y)/2).map(lambda rdd:(rdd[1],rdd[0])).sortByKey(ascending=False)\n",
    "#print(\"rating , movid\")\n",
    "#answer_list=secfind.collect()\n",
    "secfind=text_file.map(lambda rdd : rdd.split(\"::\"))#cut by \"::\"\n",
    "temp1=secfind.map(lambda rdd :(int(rdd[1]),float(rdd[2]))) #only get movieID and rating\n",
    "temp2=temp1.reduceByKey(lambda x, y:(x+y)/2) #all same movieID to addrating and get avg\n",
    "temp3=temp2.map(lambda rdd:(rdd[1],rdd[0])) #swap for sortByKey\n",
    "temp4=temp3.sortByKey(ascending=False)#sort By Key\n",
    "print(\"rating , movid\")\n",
    "answer_list=temp4.collect()\n"
   ]
  },
  {
   "cell_type": "code",
   "execution_count": 5,
   "metadata": {},
   "outputs": [
    {
     "name": "stdout",
     "output_type": "stream",
     "text": [
      "time: \t11.98645806312561\n"
     ]
    }
   ],
   "source": [
    "with open('output/HW4-1-ouput.txt','w') as f:\n",
    "    f.write(\"\\trating\\t\\tmovId\\n\")\n",
    "    for item in answer_list:\n",
    "        f.write(\"\\t%f  \" % item[0])\n",
    "        f.write(\"\\t%d\\n\" % item[1])\n",
    "        \n",
    "print('time: \\t{}'.format(time.time() - start))\n",
    "\n"
   ]
  },
  {
   "cell_type": "code",
   "execution_count": 6,
   "metadata": {},
   "outputs": [],
   "source": [
    "sc.stop()"
   ]
  },
  {
   "cell_type": "code",
   "execution_count": null,
   "metadata": {},
   "outputs": [],
   "source": []
  },
  {
   "cell_type": "code",
   "execution_count": null,
   "metadata": {},
   "outputs": [],
   "source": []
  },
  {
   "cell_type": "code",
   "execution_count": null,
   "metadata": {},
   "outputs": [],
   "source": []
  },
  {
   "cell_type": "code",
   "execution_count": null,
   "metadata": {},
   "outputs": [],
   "source": []
  },
  {
   "cell_type": "code",
   "execution_count": null,
   "metadata": {},
   "outputs": [],
   "source": []
  },
  {
   "cell_type": "code",
   "execution_count": null,
   "metadata": {},
   "outputs": [],
   "source": []
  },
  {
   "cell_type": "code",
   "execution_count": null,
   "metadata": {},
   "outputs": [],
   "source": []
  },
  {
   "cell_type": "code",
   "execution_count": null,
   "metadata": {},
   "outputs": [],
   "source": []
  },
  {
   "cell_type": "code",
   "execution_count": null,
   "metadata": {},
   "outputs": [],
   "source": []
  }
 ],
 "metadata": {
  "kernelspec": {
   "display_name": "Python 3",
   "language": "python",
   "name": "python3"
  },
  "language_info": {
   "codemirror_mode": {
    "name": "ipython",
    "version": 3
   },
   "file_extension": ".py",
   "mimetype": "text/x-python",
   "name": "python",
   "nbconvert_exporter": "python",
   "pygments_lexer": "ipython3",
   "version": "3.5.2"
  }
 },
 "nbformat": 4,
 "nbformat_minor": 4
}
